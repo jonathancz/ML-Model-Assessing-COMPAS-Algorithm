{
 "cells": [
  {
   "cell_type": "code",
   "execution_count": 1,
   "metadata": {},
   "outputs": [],
   "source": [
    "# Import necessary libraries\n",
    "%matplotlib inline\n",
    "from IPython.core.interactiveshell import InteractiveShell\n",
    "InteractiveShell.ast_node_interactivity = \"all\"\n",
    "\n",
    "import numpy as np\n",
    "import pandas as pd\n",
    "import matplotlib.pyplot as plt\n",
    "import seaborn as sns\n",
    "from sklearn.metrics import confusion_matrix"
   ]
  },
  {
   "cell_type": "code",
   "execution_count": 2,
   "metadata": {},
   "outputs": [
    {
     "name": "stdout",
     "output_type": "stream",
     "text": [
      "<class 'pandas.core.frame.DataFrame'>\n",
      "RangeIndex: 7214 entries, 0 to 7213\n",
      "Data columns (total 53 columns):\n",
      " #   Column                   Non-Null Count  Dtype  \n",
      "---  ------                   --------------  -----  \n",
      " 0   id                       7214 non-null   int64  \n",
      " 1   name                     7214 non-null   object \n",
      " 2   first                    7214 non-null   object \n",
      " 3   last                     7214 non-null   object \n",
      " 4   compas_screening_date    7214 non-null   object \n",
      " 5   sex                      7214 non-null   object \n",
      " 6   dob                      7214 non-null   object \n",
      " 7   age                      7214 non-null   int64  \n",
      " 8   age_cat                  7214 non-null   object \n",
      " 9   race                     7214 non-null   object \n",
      " 10  juv_fel_count            7214 non-null   int64  \n",
      " 11  decile_score             7214 non-null   int64  \n",
      " 12  juv_misd_count           7214 non-null   int64  \n",
      " 13  juv_other_count          7214 non-null   int64  \n",
      " 14  priors_count             7214 non-null   int64  \n",
      " 15  days_b_screening_arrest  6907 non-null   float64\n",
      " 16  c_jail_in                6907 non-null   object \n",
      " 17  c_jail_out               6907 non-null   object \n",
      " 18  c_case_number            7192 non-null   object \n",
      " 19  c_offense_date           6055 non-null   object \n",
      " 20  c_arrest_date            1137 non-null   object \n",
      " 21  c_days_from_compas       7192 non-null   float64\n",
      " 22  c_charge_degree          7214 non-null   object \n",
      " 23  c_charge_desc            7185 non-null   object \n",
      " 24  is_recid                 7214 non-null   int64  \n",
      " 25  r_case_number            3471 non-null   object \n",
      " 26  r_charge_degree          3471 non-null   object \n",
      " 27  r_days_from_arrest       2316 non-null   float64\n",
      " 28  r_offense_date           3471 non-null   object \n",
      " 29  r_charge_desc            3413 non-null   object \n",
      " 30  r_jail_in                2316 non-null   object \n",
      " 31  r_jail_out               2316 non-null   object \n",
      " 32  violent_recid            0 non-null      float64\n",
      " 33  is_violent_recid         7214 non-null   int64  \n",
      " 34  vr_case_number           819 non-null    object \n",
      " 35  vr_charge_degree         819 non-null    object \n",
      " 36  vr_offense_date          819 non-null    object \n",
      " 37  vr_charge_desc           819 non-null    object \n",
      " 38  type_of_assessment       7214 non-null   object \n",
      " 39  decile_score.1           7214 non-null   int64  \n",
      " 40  score_text               7214 non-null   object \n",
      " 41  screening_date           7214 non-null   object \n",
      " 42  v_type_of_assessment     7214 non-null   object \n",
      " 43  v_decile_score           7214 non-null   int64  \n",
      " 44  v_score_text             7214 non-null   object \n",
      " 45  v_screening_date         7214 non-null   object \n",
      " 46  in_custody               6978 non-null   object \n",
      " 47  out_custody              6978 non-null   object \n",
      " 48  priors_count.1           7214 non-null   int64  \n",
      " 49  start                    7214 non-null   int64  \n",
      " 50  end                      7214 non-null   int64  \n",
      " 51  event                    7214 non-null   int64  \n",
      " 52  two_year_recid           7214 non-null   int64  \n",
      "dtypes: float64(4), int64(16), object(33)\n",
      "memory usage: 2.9+ MB\n"
     ]
    }
   ],
   "source": [
    "# Get and read the data\n",
    "\n",
    "# Get data from ProPublica\n",
    "url = 'https://raw.githubusercontent.com/propublica/compas-analysis/master/compas-scores-two-years.csv'\n",
    "# Read and display summary\n",
    "df = pd.read_csv(url)\n",
    "df.info()"
   ]
  },
  {
   "cell_type": "code",
   "execution_count": 3,
   "metadata": {},
   "outputs": [],
   "source": [
    "# Transform into a binary classification problem\n",
    "\n",
    "# Create a feature to score recividism score\n",
    "# Add new column that translates the risk score (decile_score) into a binary label\n",
    "# Any score of 5 or higher (medium or high risk) means that a defendant is treated\n",
    "# as a likely recividist, and a score of 4 or lower is considered as low risk. Low \n",
    "# risk means that a defendant is unlikely to re-offend.\n",
    "\n",
    "# Create feature called 'is_med_or_high_risk'\n",
    "df['is_med_or_high_risk'] = (df['decile_score'] >= 5).astype(int) #translate"
   ]
  },
  {
   "cell_type": "code",
   "execution_count": 4,
   "metadata": {},
   "outputs": [
    {
     "data": {
      "text/html": [
       "<div>\n",
       "<style scoped>\n",
       "    .dataframe tbody tr th:only-of-type {\n",
       "        vertical-align: middle;\n",
       "    }\n",
       "\n",
       "    .dataframe tbody tr th {\n",
       "        vertical-align: top;\n",
       "    }\n",
       "\n",
       "    .dataframe thead th {\n",
       "        text-align: right;\n",
       "    }\n",
       "</style>\n",
       "<table border=\"1\" class=\"dataframe\">\n",
       "  <thead>\n",
       "    <tr style=\"text-align: right;\">\n",
       "      <th></th>\n",
       "      <th>id</th>\n",
       "      <th>name</th>\n",
       "      <th>first</th>\n",
       "      <th>last</th>\n",
       "      <th>compas_screening_date</th>\n",
       "      <th>sex</th>\n",
       "      <th>dob</th>\n",
       "      <th>age</th>\n",
       "      <th>age_cat</th>\n",
       "      <th>race</th>\n",
       "      <th>...</th>\n",
       "      <th>v_score_text</th>\n",
       "      <th>v_screening_date</th>\n",
       "      <th>in_custody</th>\n",
       "      <th>out_custody</th>\n",
       "      <th>priors_count.1</th>\n",
       "      <th>start</th>\n",
       "      <th>end</th>\n",
       "      <th>event</th>\n",
       "      <th>two_year_recid</th>\n",
       "      <th>is_med_or_high_risk</th>\n",
       "    </tr>\n",
       "  </thead>\n",
       "  <tbody>\n",
       "    <tr>\n",
       "      <th>0</th>\n",
       "      <td>1</td>\n",
       "      <td>miguel hernandez</td>\n",
       "      <td>miguel</td>\n",
       "      <td>hernandez</td>\n",
       "      <td>2013-08-14</td>\n",
       "      <td>Male</td>\n",
       "      <td>1947-04-18</td>\n",
       "      <td>69</td>\n",
       "      <td>Greater than 45</td>\n",
       "      <td>Other</td>\n",
       "      <td>...</td>\n",
       "      <td>Low</td>\n",
       "      <td>2013-08-14</td>\n",
       "      <td>2014-07-07</td>\n",
       "      <td>2014-07-14</td>\n",
       "      <td>0</td>\n",
       "      <td>0</td>\n",
       "      <td>327</td>\n",
       "      <td>0</td>\n",
       "      <td>0</td>\n",
       "      <td>0</td>\n",
       "    </tr>\n",
       "    <tr>\n",
       "      <th>1</th>\n",
       "      <td>3</td>\n",
       "      <td>kevon dixon</td>\n",
       "      <td>kevon</td>\n",
       "      <td>dixon</td>\n",
       "      <td>2013-01-27</td>\n",
       "      <td>Male</td>\n",
       "      <td>1982-01-22</td>\n",
       "      <td>34</td>\n",
       "      <td>25 - 45</td>\n",
       "      <td>African-American</td>\n",
       "      <td>...</td>\n",
       "      <td>Low</td>\n",
       "      <td>2013-01-27</td>\n",
       "      <td>2013-01-26</td>\n",
       "      <td>2013-02-05</td>\n",
       "      <td>0</td>\n",
       "      <td>9</td>\n",
       "      <td>159</td>\n",
       "      <td>1</td>\n",
       "      <td>1</td>\n",
       "      <td>0</td>\n",
       "    </tr>\n",
       "    <tr>\n",
       "      <th>2</th>\n",
       "      <td>4</td>\n",
       "      <td>ed philo</td>\n",
       "      <td>ed</td>\n",
       "      <td>philo</td>\n",
       "      <td>2013-04-14</td>\n",
       "      <td>Male</td>\n",
       "      <td>1991-05-14</td>\n",
       "      <td>24</td>\n",
       "      <td>Less than 25</td>\n",
       "      <td>African-American</td>\n",
       "      <td>...</td>\n",
       "      <td>Low</td>\n",
       "      <td>2013-04-14</td>\n",
       "      <td>2013-06-16</td>\n",
       "      <td>2013-06-16</td>\n",
       "      <td>4</td>\n",
       "      <td>0</td>\n",
       "      <td>63</td>\n",
       "      <td>0</td>\n",
       "      <td>1</td>\n",
       "      <td>0</td>\n",
       "    </tr>\n",
       "    <tr>\n",
       "      <th>3</th>\n",
       "      <td>5</td>\n",
       "      <td>marcu brown</td>\n",
       "      <td>marcu</td>\n",
       "      <td>brown</td>\n",
       "      <td>2013-01-13</td>\n",
       "      <td>Male</td>\n",
       "      <td>1993-01-21</td>\n",
       "      <td>23</td>\n",
       "      <td>Less than 25</td>\n",
       "      <td>African-American</td>\n",
       "      <td>...</td>\n",
       "      <td>Medium</td>\n",
       "      <td>2013-01-13</td>\n",
       "      <td>NaN</td>\n",
       "      <td>NaN</td>\n",
       "      <td>1</td>\n",
       "      <td>0</td>\n",
       "      <td>1174</td>\n",
       "      <td>0</td>\n",
       "      <td>0</td>\n",
       "      <td>1</td>\n",
       "    </tr>\n",
       "    <tr>\n",
       "      <th>4</th>\n",
       "      <td>6</td>\n",
       "      <td>bouthy pierrelouis</td>\n",
       "      <td>bouthy</td>\n",
       "      <td>pierrelouis</td>\n",
       "      <td>2013-03-26</td>\n",
       "      <td>Male</td>\n",
       "      <td>1973-01-22</td>\n",
       "      <td>43</td>\n",
       "      <td>25 - 45</td>\n",
       "      <td>Other</td>\n",
       "      <td>...</td>\n",
       "      <td>Low</td>\n",
       "      <td>2013-03-26</td>\n",
       "      <td>NaN</td>\n",
       "      <td>NaN</td>\n",
       "      <td>2</td>\n",
       "      <td>0</td>\n",
       "      <td>1102</td>\n",
       "      <td>0</td>\n",
       "      <td>0</td>\n",
       "      <td>0</td>\n",
       "    </tr>\n",
       "  </tbody>\n",
       "</table>\n",
       "<p>5 rows × 54 columns</p>\n",
       "</div>"
      ],
      "text/plain": [
       "   id                name   first         last compas_screening_date   sex  \\\n",
       "0   1    miguel hernandez  miguel    hernandez            2013-08-14  Male   \n",
       "1   3         kevon dixon   kevon        dixon            2013-01-27  Male   \n",
       "2   4            ed philo      ed        philo            2013-04-14  Male   \n",
       "3   5         marcu brown   marcu        brown            2013-01-13  Male   \n",
       "4   6  bouthy pierrelouis  bouthy  pierrelouis            2013-03-26  Male   \n",
       "\n",
       "          dob  age          age_cat              race  ...  v_score_text  \\\n",
       "0  1947-04-18   69  Greater than 45             Other  ...           Low   \n",
       "1  1982-01-22   34          25 - 45  African-American  ...           Low   \n",
       "2  1991-05-14   24     Less than 25  African-American  ...           Low   \n",
       "3  1993-01-21   23     Less than 25  African-American  ...        Medium   \n",
       "4  1973-01-22   43          25 - 45             Other  ...           Low   \n",
       "\n",
       "   v_screening_date  in_custody  out_custody  priors_count.1  start   end  \\\n",
       "0        2013-08-14  2014-07-07   2014-07-14               0      0   327   \n",
       "1        2013-01-27  2013-01-26   2013-02-05               0      9   159   \n",
       "2        2013-04-14  2013-06-16   2013-06-16               4      0    63   \n",
       "3        2013-01-13         NaN          NaN               1      0  1174   \n",
       "4        2013-03-26         NaN          NaN               2      0  1102   \n",
       "\n",
       "  event two_year_recid is_med_or_high_risk  \n",
       "0     0              0                   0  \n",
       "1     1              1                   0  \n",
       "2     0              1                   0  \n",
       "3     0              0                   1  \n",
       "4     0              0                   0  \n",
       "\n",
       "[5 rows x 54 columns]"
      ]
     },
     "execution_count": 4,
     "metadata": {},
     "output_type": "execute_result"
    }
   ],
   "source": [
    "# Preview new column\n",
    "df.head()"
   ]
  },
  {
   "cell_type": "code",
   "execution_count": 5,
   "metadata": {},
   "outputs": [
    {
     "data": {
      "text/plain": [
       "\"\\nTo evaluate the performance of the model, we need to understand the model's \\nprediction to the 'truth':\\n- The risk score of the COMPAS system is 'decile_score'\\n- The classificiation of COMPAS as low, medium, or high risk is in the newly \\ncreated column called 'is_med_or_high_risk' column\\n- The 'true' recividism value (the risk that a criminal defendant will re-offend)\\nis in the 'two_year_recid' column.\\n\""
      ]
     },
     "execution_count": 5,
     "metadata": {},
     "output_type": "execute_result"
    },
    {
     "data": {
      "text/plain": [
       "0.6537288605489326"
      ]
     },
     "execution_count": 5,
     "metadata": {},
     "output_type": "execute_result"
    },
    {
     "data": {
      "text/plain": [
       "0.45065151095092876"
      ]
     },
     "execution_count": 5,
     "metadata": {},
     "output_type": "execute_result"
    }
   ],
   "source": [
    "# Evaluate model performance\n",
    "\n",
    "'''\n",
    "To evaluate the performance of the model, we need to understand the model's \n",
    "prediction to the 'truth':\n",
    "- The risk score of the COMPAS system is 'decile_score'\n",
    "- The classificiation of COMPAS as low, medium, or high risk is in the newly \n",
    "created column called 'is_med_or_high_risk' column\n",
    "- The 'true' recividism value (the risk that a criminal defendant will re-offend)\n",
    "is in the 'two_year_recid' column.\n",
    "'''\n",
    "\n",
    "# Compute the accuracy\n",
    "np.mean(df['is_med_or_high_risk'] == df['two_year_recid'])\n",
    "np.mean(df['two_year_recid'])"
   ]
  },
  {
   "cell_type": "code",
   "execution_count": 6,
   "metadata": {},
   "outputs": [
    {
     "data": {
      "image/png": "[encoded data removed]",
      "text/plain": [
       "<Figure size 360x360 with 1 Axes>"
      ]
     },
     "metadata": {
      "needs_background": "light"
     },
     "output_type": "display_data"
    }
   ],
   "source": [
    "# Create a confusion matrix to derive a whole set of classifier metrics\n",
    "# TPR, TNR, PPV, NPV, FPR, FDR, FNR, FOR\n",
    "cm = pd.crosstab(df['is_med_or_high_risk'], df['two_year_recid'], \n",
    "                               rownames=['Predicted'], colnames=['Actual'])\n",
    "p = plt.figure(figsize=(5,5));\n",
    "p = sns.heatmap(cm, annot=True, fmt=\"d\", cbar=False)"
   ]
  },
  {
   "cell_type": "code",
   "execution_count": 7,
   "metadata": {},
   "outputs": [
    {
     "name": "stdout",
     "output_type": "stream",
     "text": [
      "True negatives:   2681\n",
      "False positives:  1282\n",
      "False negatives:  1216\n",
      "True positives:   2035\n"
     ]
    }
   ],
   "source": [
    "# Using sklearn's confusion matrix to pull out these values and compute any metrics\n",
    "# of interest\n",
    "[[tn , fp],[fn , tp]]  = confusion_matrix(df['two_year_recid'], df['is_med_or_high_risk'])\n",
    "print(\"True negatives:  \", tn)\n",
    "print(\"False positives: \", fp)\n",
    "print(\"False negatives: \", fn)\n",
    "print(\"True positives:  \", tp)"
   ]
  },
  {
   "cell_type": "code",
   "execution_count": 8,
   "metadata": {},
   "outputs": [
    {
     "data": {
      "image/png": "[encoded data removed]",
      "text/plain": [
       "<Figure size 360x360 with 1 Axes>"
      ]
     },
     "metadata": {
      "needs_background": "light"
     },
     "output_type": "display_data"
    }
   ],
   "source": [
    "# Normalize by row - show the PPV, FDR, FOR, NPV\n",
    "cm = pd.crosstab(df['is_med_or_high_risk'], df['two_year_recid'], \n",
    "                               rownames=['Predicted'], colnames=['Actual'], normalize='index')\n",
    "p = plt.figure(figsize=(5,5));\n",
    "p = sns.heatmap(cm, annot=True, fmt=\".2f\", cbar=False)"
   ]
  },
  {
   "cell_type": "code",
   "execution_count": 9,
   "metadata": {},
   "outputs": [
    {
     "data": {
      "image/png": "[encoded data removed]",
      "text/plain": [
       "<Figure size 360x360 with 1 Axes>"
      ]
     },
     "metadata": {
      "needs_background": "light"
     },
     "output_type": "display_data"
    }
   ],
   "source": [
    "# Normalize by column, show the TPR, FPR, FNR, TNR\n",
    "cm = pd.crosstab(df['is_med_or_high_risk'], df['two_year_recid'], \n",
    "                               rownames=['Predicted'], colnames=['Actual'], normalize='columns')\n",
    "p = plt.figure(figsize=(5,5));\n",
    "p = sns.heatmap(cm, annot=True, fmt=\".2f\", cbar=False)"
   ]
  },
  {
   "cell_type": "code",
   "execution_count": 10,
   "metadata": {},
   "outputs": [
    {
     "name": "stdout",
     "output_type": "stream",
     "text": [
      "False positive rate (overall):  0.32349230381024474\n",
      "False negative rate (overall):  0.3740387573054445\n"
     ]
    }
   ],
   "source": [
    "fpr = fp/(fp+tn)\n",
    "fnr  = fn/(fn+tp)\n",
    "\n",
    "print(\"False positive rate (overall): \", fpr)\n",
    "print(\"False negative rate (overall): \", fnr)"
   ]
  },
  {
   "cell_type": "code",
   "execution_count": 11,
   "metadata": {},
   "outputs": [
    {
     "data": {
      "image/png": "[encoded data removed]",
      "text/plain": [
       "<Figure size 432x288 with 1 Axes>"
      ]
     },
     "metadata": {
      "needs_background": "light"
     },
     "output_type": "display_data"
    }
   ],
   "source": [
    "# Evaluate the risk score, instead of just labels\n",
    "# The risk score is meant to indicate the probability that a defendant will re-offend\n",
    "d = df.groupby('decile_score').agg({'two_year_recid': 'mean'})\n",
    "# plot\n",
    "sns.scatterplot(data=d);\n",
    "plt.ylim(0,1);\n",
    "plt.ylabel('Recidivism rate');"
   ]
  },
  {
   "cell_type": "code",
   "execution_count": 12,
   "metadata": {},
   "outputs": [
    {
     "data": {
      "image/png": "[encoded data removed]",
      "text/plain": [
       "<Figure size 432x288 with 1 Axes>"
      ]
     },
     "metadata": {
      "needs_background": "light"
     },
     "output_type": "display_data"
    }
   ],
   "source": [
    "# By examining the graph above, we can see that defendants with a higher\n",
    "# COMPAS score indeed had higher rates of recividism.\n",
    "from sklearn.metrics import roc_curve, roc_auc_score\n",
    "\n",
    "fpr, tpr, thresholds = roc_curve(df['two_year_recid'], df['decile_score'])\n",
    "sns.scatterplot(x=fpr, y=tpr, );\n",
    "sns.lineplot(x=fpr, y=tpr);\n",
    "plt.ylabel(\"TPR\");\n",
    "plt.xlabel(\"FPR\");"
   ]
  },
  {
   "cell_type": "code",
   "execution_count": 13,
   "metadata": {},
   "outputs": [
    {
     "data": {
      "text/plain": [
       "0.7021662544019724"
      ]
     },
     "execution_count": 13,
     "metadata": {},
     "output_type": "execute_result"
    }
   ],
   "source": [
    "auc = roc_auc_score(df['two_year_recid'], df['decile_score'])\n",
    "auc"
   ]
  },
  {
   "cell_type": "code",
   "execution_count": 15,
   "metadata": {},
   "outputs": [
    {
     "data": {
      "text/plain": [
       "African-American    3696\n",
       "Caucasian           2454\n",
       "Hispanic             637\n",
       "Other                377\n",
       "Asian                 32\n",
       "Native American       18\n",
       "Name: race, dtype: int64"
      ]
     },
     "execution_count": 15,
     "metadata": {},
     "output_type": "execute_result"
    }
   ],
   "source": [
    "# Accuracy show above: 0.7021662544019724\n",
    "\n",
    "# Fairness\n",
    "# Race is not an explicit input to COMPAS, but some of the questions are \n",
    "# directly correlated with race\n",
    "\n",
    "# Race frequency in the data\n",
    "df['race'].value_counts()"
   ]
  },
  {
   "cell_type": "code",
   "execution_count": 16,
   "metadata": {},
   "outputs": [
    {
     "data": {
      "text/plain": [
       "race\n",
       "African-American    0.638258\n",
       "Caucasian           0.669927\n",
       "dtype: float64"
      ]
     },
     "execution_count": 16,
     "metadata": {},
     "output_type": "execute_result"
    }
   ],
   "source": [
    "# The main focus here will be on African-Americans or Caucasian defendants,\n",
    "# since they are the subject of the ProPublica claim\n",
    "df = df[df.race.isin([\"African-American\", \"Caucasian\"])]\n",
    "# Compare accuracy\n",
    "(df['two_year_recid'] == df['is_med_or_high_risk']).astype(int).groupby(df['race']).mean()"
   ]
  },
  {
   "cell_type": "code",
   "execution_count": 17,
   "metadata": {},
   "outputs": [
    {
     "data": {
      "text/plain": [
       "race\n",
       "African-American    0.629715\n",
       "Caucasian           0.591335\n",
       "Name: two_year_recid, dtype: float64"
      ]
     },
     "execution_count": 17,
     "metadata": {},
     "output_type": "execute_result"
    }
   ],
   "source": [
    "# It's not completely the same, but very similar\n",
    "# Here, we are assessing the type of fairness known as 'overall accuracy equality'\n",
    "\n",
    "# Now, let's see whether a defendant who is classified as medium or high risk has \n",
    "# the same probability of recividism for the two groups.\n",
    "# In other words, we will compute the PPV for each group\n",
    "\n",
    "# Compute PPV\n",
    "df[df['is_med_or_high_risk'] == 1]['two_year_recid'].groupby(df['race']).mean()"
   ]
  },
  {
   "cell_type": "code",
   "execution_count": 18,
   "metadata": {},
   "outputs": [
    {
     "data": {
      "image/png": "[encoded data removed]",
      "text/plain": [
       "<Figure size 432x288 with 1 Axes>"
      ]
     },
     "metadata": {
      "needs_background": "light"
     },
     "output_type": "display_data"
    }
   ],
   "source": [
    "# Again, similar but not exact. This is the type of fairness known as 'predictive parity'\n",
    "# Let's extend this idea and check whether a defendant with a given score has the same\n",
    "# probability of recidivism for the two groups:\n",
    "d = pd.DataFrame(df.groupby(['decile_score','race']).agg({'two_year_recid': 'mean'}))\n",
    "d = d.reset_index()\n",
    "im = sns.scatterplot(data=d, x='decile_score', y='two_year_recid', hue='race');\n",
    "im.set(ylim=(0,1));"
   ]
  },
  {
   "cell_type": "code",
   "execution_count": 19,
   "metadata": {},
   "outputs": [
    {
     "data": {
      "image/png": "[encoded data removed]",
      "text/plain": [
       "<Figure size 432x216 with 2 Axes>"
      ]
     },
     "metadata": {
      "needs_background": "light"
     },
     "output_type": "display_data"
    }
   ],
   "source": [
    "# As per the graph, we can see that both African-American and Caucasian\n",
    "# defendants, for any given COMPAS score, recividism rates are similar.\n",
    "# This type of fairness is known as 'calibration'\n",
    "\n",
    "# Let's take a look ath the frequency in which defendants of each race\n",
    "# are assigned each COMPAS score:\n",
    "\n",
    "# Frequency plot\n",
    "g = sns.FacetGrid(df, col=\"race\", margin_titles=True);\n",
    "g.map(plt.hist, \"decile_score\", bins=10);"
   ]
  },
  {
   "cell_type": "code",
   "execution_count": 20,
   "metadata": {},
   "outputs": [
    {
     "data": {
      "text/html": [
       "<div>\n",
       "<style scoped>\n",
       "    .dataframe tbody tr th:only-of-type {\n",
       "        vertical-align: middle;\n",
       "    }\n",
       "\n",
       "    .dataframe tbody tr th {\n",
       "        vertical-align: top;\n",
       "    }\n",
       "\n",
       "    .dataframe thead th {\n",
       "        text-align: right;\n",
       "    }\n",
       "</style>\n",
       "<table border=\"1\" class=\"dataframe\">\n",
       "  <thead>\n",
       "    <tr style=\"text-align: right;\">\n",
       "      <th></th>\n",
       "      <th>two_year_recid</th>\n",
       "      <th>is_med_or_high_risk</th>\n",
       "      <th>decile_score</th>\n",
       "    </tr>\n",
       "    <tr>\n",
       "      <th>race</th>\n",
       "      <th></th>\n",
       "      <th></th>\n",
       "      <th></th>\n",
       "    </tr>\n",
       "  </thead>\n",
       "  <tbody>\n",
       "    <tr>\n",
       "      <th>African-American</th>\n",
       "      <td>0.514340</td>\n",
       "      <td>0.588203</td>\n",
       "      <td>5.368777</td>\n",
       "    </tr>\n",
       "    <tr>\n",
       "      <th>Caucasian</th>\n",
       "      <td>0.393643</td>\n",
       "      <td>0.348003</td>\n",
       "      <td>3.735126</td>\n",
       "    </tr>\n",
       "  </tbody>\n",
       "</table>\n",
       "</div>"
      ],
      "text/plain": [
       "                  two_year_recid  is_med_or_high_risk  decile_score\n",
       "race                                                               \n",
       "African-American        0.514340             0.588203      5.368777\n",
       "Caucasian               0.393643             0.348003      3.735126"
      ]
     },
     "execution_count": 20,
     "metadata": {},
     "output_type": "execute_result"
    }
   ],
   "source": [
    "# Now we can see some major differences. We can observe that Caucasian\n",
    "# defendants in this sample are more likel to be assigned a low risk score.\n",
    "\n",
    "# To assess 'unfairness', we need to know the true prevalence - whether the \n",
    "# rates of recividism are the same in both populations, according to the data\n",
    "\n",
    "# Base rates\n",
    "df.groupby('race').agg({'two_year_recid': 'mean',  \n",
    "                        'is_med_or_high_risk': 'mean', \n",
    "                        'decile_score': 'mean'})"
   ]
  },
  {
   "cell_type": "code",
   "execution_count": 21,
   "metadata": {},
   "outputs": [
    {
     "data": {
      "text/plain": [
       "\"\\nSo far, the analyis suggests that COMPAS is fair with respect to race:\\n- The overall accuracy of the COMPAS label is the same, regardless of race (overall accuracy equality)\\n- The likelihood of recividism among defendants labeled as medium or high risk is similar,\\n regardless of race (predictive parity)\\n - For any given COMPAS socre, the risk of recividism is similar, regardless of race -\\n the meaning of the score is consistent across race (calibration)\\n - We do not have statistical parity (a type of fairness corresponding to equal probability\\nof positive classification), but we don't necessarily expect to when the prevalence of actual\\npositive is different between groups.\\n\""
      ]
     },
     "execution_count": 21,
     "metadata": {},
     "output_type": "execute_result"
    },
    {
     "name": "stdout",
     "output_type": "stream",
     "text": [
      "False positive rate (Black)      :  0.34317548746518106\n",
      "False negative rate (Black)      :  0.37243556023145713\n",
      "Positive predictive value (Black):  0.6594803758982863\n",
      "Negative predictive value (Black):  0.6248012718600954\n"
     ]
    }
   ],
   "source": [
    "# The predictions of the model are pretty close to the actual prevalence in the\n",
    "# population.\n",
    "'''\n",
    "So far, the analyis suggests that COMPAS is fair with respect to race:\n",
    "- The overall accuracy of the COMPAS label is the same, regardless of race (overall accuracy equality)\n",
    "- The likelihood of recividism among defendants labeled as medium or high risk is similar,\n",
    " regardless of race (predictive parity)\n",
    " - For any given COMPAS socre, the risk of recividism is similar, regardless of race -\n",
    " the meaning of the score is consistent across race (calibration)\n",
    " - We do not have statistical parity (a type of fairness corresponding to equal probability\n",
    "of positive classification), but we don't necessarily expect to when the prevalence of actual\n",
    "positive is different between groups.\n",
    "'''\n",
    "\n",
    "# Let's take a look at that\n",
    "black_threshold  = 6\n",
    "df_black = df[df['race']==\"African-American\"].copy()\n",
    "df_black['is_med_or_high_risk'] = (df_black['decile_score']>=black_threshold).astype(int)\n",
    "[[tn , fp],[fn , tp]]  = confusion_matrix(df_black['two_year_recid'], df_black['is_med_or_high_risk'])\n",
    "print(\"False positive rate (Black)      : \", fp/(fp+tn))\n",
    "print(\"False negative rate (Black)      : \", fn/(fn+tp))\n",
    "print(\"Positive predictive value (Black): \", tp/(tp+fp))\n",
    "print(\"Negative predictive value (Black): \", tn/(tn+fn))"
   ]
  },
  {
   "cell_type": "code",
   "execution_count": 22,
   "metadata": {},
   "outputs": [
    {
     "name": "stdout",
     "output_type": "stream",
     "text": [
      "False positive rate (white)      :  0.35013440860215056\n",
      "False negative rate (white)      :  0.36024844720496896\n",
      "Positive predictive value (white):  0.5425812115891132\n",
      "Negative predictive value (white):  0.7353612167300381\n"
     ]
    }
   ],
   "source": [
    "# Adjust for white defendants\n",
    "white_threshold  = 4\n",
    "df_white = df[df['race']==\"Caucasian\"].copy()\n",
    "df_white['is_med_or_high_risk'] = (df_white['decile_score']>=white_threshold).astype(int)\n",
    "[[tn , fp],[fn , tp]]  = confusion_matrix(df_white['two_year_recid'], df_white['is_med_or_high_risk'])\n",
    "print(\"False positive rate (white)      : \", fp/(fp+tn))\n",
    "print(\"False negative rate (white)      : \", fn/(fn+tp))\n",
    "print(\"Positive predictive value (white): \", tp/(tp+fp))\n",
    "print(\"Negative predictive value (white): \", tn/(tn+fn))"
   ]
  },
  {
   "cell_type": "code",
   "execution_count": 23,
   "metadata": {},
   "outputs": [
    {
     "data": {
      "text/plain": [
       "\"\\nWhy is it so tricky to satisfy multiple types of fairness at once? \\nThis is due to a proven impossibility result.\\n\\nAny time the base rate (prevalence of the positive condition) is different\\nin the two groups, and we do not have a perfect classifier\\n\\nThen we can't simultanesouly satisfy:\\n- Equal PPV and NPV for both groups (known as conditional use accuracy equality)\\n- Equal FPR and FNR for both groups (known as equalized odds or conditional procedure\\naccuracy equality)\\n\\nSo what does all of this mean?\\n- A model can be biased with respect to age, race, gender, if those features are\\nnot used as input to the model\\n- There are many measures of fairness, it may be impossible to satisfy some combination\\nof these simultaneously \\n- Human biases and unfairness in society leak into the data used to train machine learning\\nmodels.\\n\\nAll of this was from an article by Farham Rahman.\\nLink: https://towardsdatascience.com/compas-case-study-fairness-of-a-machine-learning-model-f0f804108751\\n\""
      ]
     },
     "execution_count": 23,
     "metadata": {},
     "output_type": "execute_result"
    }
   ],
   "source": [
    "'''\n",
    "Why is it so tricky to satisfy multiple types of fairness at once? \n",
    "This is due to a proven impossibility result.\n",
    "\n",
    "Any time the base rate (prevalence of the positive condition) is different\n",
    "in the two groups, and we do not have a perfect classifier\n",
    "\n",
    "Then we can't simultanesouly satisfy:\n",
    "- Equal PPV and NPV for both groups (known as conditional use accuracy equality)\n",
    "- Equal FPR and FNR for both groups (known as equalized odds or conditional procedure\n",
    "accuracy equality)\n",
    "\n",
    "So what does all of this mean?\n",
    "- A model can be biased with respect to age, race, gender, if those features are\n",
    "not used as input to the model\n",
    "- There are many measures of fairness, it may be impossible to satisfy some combination\n",
    "of these simultaneously \n",
    "- Human biases and unfairness in society leak into the data used to train machine learning\n",
    "models.\n",
    "\n",
    "All of this was from an article by Farham Rahman.\n",
    "Link: https://towardsdatascience.com/compas-case-study-fairness-of-a-machine-learning-model-f0f804108751\n",
    "'''"
   ]
  },
  {
   "cell_type": "code",
   "execution_count": null,
   "metadata": {},
   "outputs": [],
   "source": []
  }
 ],
 "metadata": {
  "kernelspec": {
   "display_name": "conda_python3",
   "language": "python",
   "name": "conda_python3"
  },
  "language_info": {
   "codemirror_mode": {
    "name": "ipython",
    "version": 3
   },
   "file_extension": ".py",
   "mimetype": "text/x-python",
   "name": "python",
   "nbconvert_exporter": "python",
   "pygments_lexer": "ipython3",
   "version": "3.6.10"
  }
 },
 "nbformat": 4,
 "nbformat_minor": 4
}
